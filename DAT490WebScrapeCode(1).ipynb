{
 "cells": [
  {
   "cell_type": "code",
   "execution_count": 1,
   "id": "0cb650fd-1f56-43fa-a2b2-87fb8100082d",
   "metadata": {},
   "outputs": [
    {
     "name": "stdout",
     "output_type": "stream",
     "text": [
      "Scraping for: Caesars Entertainment (2020-04-13)\n",
      "Scraping for: APA Corporation (2020-04-17)\n",
      "Scraping for: Carnival Corporation (2020-04-15)\n",
      "Scraping for: Occidental Petroleum (2020-04-17)\n",
      "Scraping for: Diamondback Energy (2020-04-17)\n",
      "Scraping for: Devon Energy (2020-04-17)\n",
      "Scraping for: United Airlines (2020-04-16)\n",
      "Scraping for: Darden Restaurants (2020-04-20)\n",
      "Scraping for: Halliburton (2020-04-17)\n",
      "Scraping for: Ventas (2020-04-20)\n",
      "Saved as: scraped_stock_news.csv\n"
     ]
    }
   ],
   "source": [
    "# Web Scrape for Top-10 Stock Events\n",
    "# ~~~~~~~~~~~~~~~~~~~~~~~~~~~~~~~~~~~\n",
    "\n",
    "# libraries\n",
    "import pandas as pd\n",
    "import requests\n",
    "from bs4 import BeautifulSoup\n",
    "import time\n",
    "import numpy as np \n",
    "\n",
    "# load dataset from csv, drop nulls and nan records\n",
    "stock_events_df = pd.read_csv(\"filtered_and_named_stock_data.csv\")\n",
    "\n",
    "stock_events_df[\"Date\"] = pd.to_datetime(stock_events_df[\"Date\"])\n",
    "\n",
    "stock_events_df = stock_events_df.dropna(subset=[\"Stock\"])  \n",
    "stock_events_df = stock_events_df[stock_events_df[\"Stock\"].astype(str).str.lower() != \"nan\"]  \n",
    "\n",
    "# top 10 most volatile event windows from our stock data\n",
    "top_10 = (\n",
    "    stock_events_df.sort_values(by=\"Volatility\", ascending=False)\n",
    "    .drop_duplicates(subset=[\"Stock\"])  \n",
    "    .head(10)\n",
    ")\n",
    "\n",
    "# function to scrape Bing engine\n",
    "def scrape_bing(stock_name, event_date, max_results=10):\n",
    "    search_query = f\"{stock_name} stock news {event_date.strftime('%Y-%m-%d')}\"\n",
    "    bing_url = f\"https://www.bing.com/news/search?q={search_query.replace(' ', '+')}\"\n",
    "\n",
    "    headers = {\n",
    "        \"User-Agent\": \"Mozilla/5.0 (Windows NT 10.0; Win64; x64) AppleWebKit/537.36 (KHTML, like Gecko) Chrome/110.0.0.0 Safari/537.36\"\n",
    "    }\n",
    "    \n",
    "    # failed request error\n",
    "    response = requests.get(bing_url, headers=headers)\n",
    "    if response.status_code != 200:\n",
    "        \n",
    "        print(f\"Request ERROR\")\n",
    "        \n",
    "        return []\n",
    "        \n",
    "    # BeautifulSoup to web scrape article snippets\n",
    "    soup = BeautifulSoup(response.text, \"html.parser\")\n",
    "    articles = soup.find_all(\"div\", class_=\"news-card\") \n",
    "\n",
    "    news_data = []\n",
    "    for article in articles[:max_results]:  \n",
    "        headline = article.find(\"a\").text if article.find(\"a\") else \"No Title\"\n",
    "        url = article.find(\"a\")[\"href\"] if article.find(\"a\") else \"No URL\"\n",
    "        snippet = article.find(\"div\", class_=\"snippet\").text if article.find(\"div\", class_=\"snippet\") else \"No Snippet\"\n",
    "        \n",
    "        news_data.append({\n",
    "            \"Stock\": stock_name,\n",
    "            \"Date\": event_date.strftime('%Y-%m-%d'),\n",
    "            \"Headline\": headline,\n",
    "            \"URL\": url,\n",
    "            \"Snippet\": snippet\n",
    "        })\n",
    "\n",
    "    time.sleep(2) # for request timeout\n",
    "    \n",
    "    return news_data\n",
    "\n",
    "# scrape for each stock in the top-10 using our scrape_bing function\n",
    "all_news = []\n",
    "for _, row in top_10.iterrows():\n",
    "    stock_name = row[\"Stock\"]\n",
    "    event_date = row[\"Date\"]\n",
    "    print(f\"Scraping for: {stock_name} ({event_date.strftime('%Y-%m-%d')})\")\n",
    "    \n",
    "    news_articles = scrape_bing(stock_name, event_date)\n",
    "    all_news.extend(news_articles)\n",
    "\n",
    "news_df = pd.DataFrame(all_news)\n",
    "\n",
    "# save as csv\n",
    "news_df.to_csv(\"scraped_stock_news.csv\", index=False)\n",
    "\n",
    "print(\"Saved as: scraped_stock_news.csv\")"
   ]
  },
  {
   "cell_type": "code",
   "execution_count": 2,
   "id": "29507a91-5a41-4e83-820c-3585d13cabaa",
   "metadata": {},
   "outputs": [
    {
     "name": "stdout",
     "output_type": "stream",
     "text": [
      "Saved as: C:\\Users\\Garrett\\Desktop\\scraped_stocks_news.csv\n"
     ]
    }
   ],
   "source": [
    "# Saving with utf-8 specifically\n",
    "import os\n",
    "\n",
    "file_path = os.path.join(os.path.expanduser(\"~\"), \"Desktop\", \"scraped_stocks_news.csv\")\n",
    "\n",
    "news_df.to_csv(file_path, index=False, sep=',', encoding='utf-8')\n",
    "\n",
    "print(f\"Saved as: {file_path}\")"
   ]
  }
 ],
 "metadata": {
  "kernelspec": {
   "display_name": "Python [conda env:base] *",
   "language": "python",
   "name": "conda-base-py"
  },
  "language_info": {
   "codemirror_mode": {
    "name": "ipython",
    "version": 3
   },
   "file_extension": ".py",
   "mimetype": "text/x-python",
   "name": "python",
   "nbconvert_exporter": "python",
   "pygments_lexer": "ipython3",
   "version": "3.12.9"
  }
 },
 "nbformat": 4,
 "nbformat_minor": 5
}
